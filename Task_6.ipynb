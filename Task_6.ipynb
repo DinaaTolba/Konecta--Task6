{
 "cells": [
  {
   "cell_type": "code",
   "execution_count": 2,
   "id": "9f99341a",
   "metadata": {},
   "outputs": [
    {
     "name": "stdout",
     "output_type": "stream",
     "text": [
      "WARNING:tensorflow:From c:\\Users\\HP\\miniconda3\\envs\\condaenvironment\\lib\\site-packages\\tf_keras\\src\\losses.py:2976: The name tf.losses.sparse_softmax_cross_entropy is deprecated. Please use tf.compat.v1.losses.sparse_softmax_cross_entropy instead.\n",
      "\n"
     ]
    },
    {
     "name": "stderr",
     "output_type": "stream",
     "text": [
      "incorrect startxref pointer(1)\n",
      "parsing for Object Streams\n",
      "incorrect startxref pointer(1)\n",
      "parsing for Object Streams\n",
      "incorrect startxref pointer(1)\n",
      "parsing for Object Streams\n"
     ]
    }
   ],
   "source": [
    "import os\n",
    "from pathlib import Path\n",
    "import re\n",
    "from langchain_community.document_loaders import PyPDFLoader\n",
    "from langchain_text_splitters import RecursiveCharacterTextSplitter\n",
    "from langchain_community.vectorstores import Chroma\n",
    "from langchain.prompts import ChatPromptTemplate\n",
    "from langchain_core.output_parsers import StrOutputParser\n",
    "from langchain_core.embeddings import Embeddings\n",
    "from sentence_transformers import SentenceTransformer\n",
    "os.environ[\"TRANSFORMERS_NO_TF\"] = \"1\"  \n",
    "\n",
    "\n",
    "class STEmbeddings(Embeddings):\n",
    "    def __init__(self, model_name=\"sentence-transformers/all-MiniLM-L6-v2\"):\n",
    "        self.model = SentenceTransformer(model_name)\n",
    "    def embed_documents(self, texts):\n",
    "        return self.model.encode(texts, normalize_embeddings=True).tolist()\n",
    "    def embed_query(self, text):\n",
    "        return self.model.encode([text], normalize_embeddings=True).tolist()[0]\n",
    "\n",
    "emb = STEmbeddings()\n",
    "\n",
    "# My manuals\n",
    "pdfs = [\n",
    "    r\"C:\\Users\\HP\\Downloads\\manuals (PDF)\\Honeywell.pdf\",\n",
    "    r\"C:\\Users\\HP\\Downloads\\manuals (PDF)\\Smart Touch Washing Machine.pdf\",\n",
    "    r\"C:\\Users\\HP\\Downloads\\manuals (PDF)\\Rittal.pdf\",\n",
    "    r\"C:\\Users\\HP\\Downloads\\manuals (PDF)\\Roborock Saros.pdf\",\n",
    "]\n",
    "\n",
    "def guess_heading(text: str) -> str:\n",
    "    for raw in text.splitlines():\n",
    "        s = raw.strip()\n",
    "        if not s or len(s) < 5 or len(s) > 80 or s.endswith(\".\"):\n",
    "            continue\n",
    "        letters = sum(ch.isalpha() for ch in s) or 1\n",
    "        if sum(ch.isupper() for ch in s) / letters >= 0.5:\n",
    "            return s\n",
    "        if re.match(r\"^(section\\s*\\d+|\\d+(?:\\.\\d+)+)\\b\", s, re.I):\n",
    "            return s\n",
    "    return \"\"\n",
    "\n",
    "docs = []\n",
    "for p in pdfs:\n",
    "    name = Path(p).stem\n",
    "    pages = PyPDFLoader(p).load()\n",
    "    for d in pages:\n",
    "        d.metadata[\"doc_name\"] = name\n",
    "        pg = d.metadata.get(\"page\", None)\n",
    "        d.metadata[\"page_number\"] = (pg + 1) if isinstance(pg, int) else pg\n",
    "        d.metadata[\"section_heading\"] = guess_heading(d.page_content)\n",
    "        docs.append(d)\n",
    "\n",
    "splitter = RecursiveCharacterTextSplitter(chunk_size=900, chunk_overlap=120)\n",
    "chunks = splitter.split_documents(docs)\n",
    "\n",
    "vs = Chroma.from_documents(chunks, emb, persist_directory=\"./chroma_store\")\n",
    "retriever = vs.as_retriever(search_kwargs={\"k\": 5})\n",
    "\n",
    "prompt = ChatPromptTemplate.from_template(\n",
    "    \"You are a helpful assistant. Answer strictly from the manuals in the context. \"\n",
    "    \"If it is not in the manuals, say you don't know. \"\n",
    "    \"Always include citations like (Doc: <doc_name>, p.<page_number>).\\n\\n\"\n",
    "    \"Conversation so far:\\n{history}\\n\\n\"\n",
    "    \"Question: {question}\\n\\n\"\n",
    "    \"Context:\\n{context}\"\n",
    ")\n",
    "\n",
    "chat_history = []\n",
    "def history_text(): return \"\\n\".join(chat_history[-6:])\n",
    "\n",
    "def make_context(docs):\n",
    "    lines = []\n",
    "    for d in docs:\n",
    "        dn = d.metadata.get(\"doc_name\")\n",
    "        pg = d.metadata.get(\"page_number\")\n",
    "        sec = d.metadata.get(\"section_heading\") or \"\"\n",
    "        head = f\"(Doc: {dn}, p.{pg}{', Sec: '+sec if sec else ''})\"\n",
    "        lines.append(f\"{head}\\n{d.page_content}\")\n",
    "    return \"\\n\".join(lines)\n",
    "\n",
    "def llm_fallback_answer(q, ctx_docs):\n",
    "    import re\n",
    "    if not ctx_docs:\n",
    "        return \"I don't know; this isn’t in the manuals.\"\n",
    "    text = \" \".join(ctx_docs[0].page_content.split())\n",
    "    sents = re.split(r'(?<=[.!?])\\s+', text)\n",
    "    keep = [s for s in sents if 40 < len(s) <= 180][:4]\n",
    "    cites = f\"(Doc: {ctx_docs[0].metadata.get('doc_name')}, p.{ctx_docs[0].metadata.get('page_number')})\"\n",
    "    body = \"- \" + \"\\n- \".join(keep) if keep else text[:500]\n",
    "    return f\"{body}\\n\\nSources: {cites}\"\n",
    "\n",
    "LLM = None  \n",
    "def ask(question: str):\n",
    "    global chat_history\n",
    "    ctx_docs = retriever.get_relevant_documents(question)\n",
    "    context = make_context(ctx_docs)\n",
    "    if LLM is not None:\n",
    "        chain = prompt | LLM | StrOutputParser()\n",
    "        answer = chain.invoke({\"history\": history_text(), \"question\": question, \"context\": context})\n",
    "    else:\n",
    "        answer = llm_fallback_answer(question, ctx_docs)\n",
    "    print(answer)\n",
    "    chat_history.append(f\"User: {question}\")\n",
    "    chat_history.append(f\"Assistant: {answer}\")\n"
   ]
  },
  {
   "cell_type": "code",
   "execution_count": 3,
   "id": "bf9a63b4",
   "metadata": {},
   "outputs": [
    {
     "name": "stderr",
     "output_type": "stream",
     "text": [
      "C:\\Users\\HP\\AppData\\Local\\Temp\\ipykernel_10604\\701753530.py:97: LangChainDeprecationWarning: The method `BaseRetriever.get_relevant_documents` was deprecated in langchain-core 0.1.46 and will be removed in 1.0. Use :meth:`~invoke` instead.\n",
      "  ctx_docs = retriever.get_relevant_documents(question)\n"
     ]
    },
    {
     "name": "stdout",
     "output_type": "stream",
     "text": [
      "- Installer setup (ISU) 1 Press and hold CENTER and buttons for approximately 3 seconds to enter advanced menu.\n",
      "- 3 Press Select to cycle through menu setup options.\n",
      "- 4 Press or to change values or select from available options.\n",
      "- 5 Press Select and confirm your settings or press Back to ignore changes and return to ISU menu screen to continue editing another setup option.\n",
      "\n",
      "Sources: (Doc: Honeywell, p.13)\n"
     ]
    }
   ],
   "source": [
    "ask(\"How do I enter and navigate the Installer Setup (ISU) menu?\")        # Honeywell\n"
   ]
  },
  {
   "cell_type": "code",
   "execution_count": 4,
   "id": "686b347e",
   "metadata": {},
   "outputs": [
    {
     "name": "stdout",
     "output_type": "stream",
     "text": [
      "- for measuring and control technology in indoor spaces.\n",
      "- Should you have any special requirements, and for outdoor installation, the suitability of the product must be verified by Rittal.\n",
      "- Because a few residual risks cannot be precluded, the following notes must be observed.\n",
      "- Danger to life and health in case of non-observance of the safety instructions.\n",
      "\n",
      "Sources: (Doc: Rittal, p.29)\n"
     ]
    }
   ],
   "source": [
    "ask(\"List the safety precautions before installation.\")                    # Rittal\n"
   ]
  },
  {
   "cell_type": "code",
   "execution_count": 5,
   "id": "1d18fe7e",
   "metadata": {},
   "outputs": [
    {
     "name": "stdout",
     "output_type": "stream",
     "text": [
      "- If you want to reconnect, reset the WiFi before proceeding.\n",
      "- Instructions for Use Filling the Clean Water Tank Lift the clean water tank, open its lid, and then fill it with tap water.\n",
      "- After filling, close the lid, lock the latch, and then put the clean water tank back to the dock.\n",
      "\n",
      "Sources: (Doc: Roborock Saros, p.13)\n"
     ]
    }
   ],
   "source": [
    "ask(\"How do I reset Wi-Fi to factory defaults?\")                           # Roborock Saros\n"
   ]
  },
  {
   "cell_type": "code",
   "execution_count": 6,
   "id": "91028d37",
   "metadata": {},
   "outputs": [
    {
     "name": "stdout",
     "output_type": "stream",
     "text": [
      "- Note: Do not touch the surface of the filter with hands, brushes, or hard objects to avoid potential damage.\n",
      "- D6-3 —Allow at least 24 hours for the filter to dry thoroughly before reinstalling it.\n",
      "- Mop Cloths * Clean as required and replace every 1-3 months.\n",
      "- D7-1 —Remove the mop cloths from mop cloth mounts.\n",
      "\n",
      "Sources: (Doc: Roborock Saros, p.23)\n"
     ]
    }
   ],
   "source": [
    "ask(\"How often should I clean the pump/pump filter?\")                      # Smart Touch Washing Machine\n"
   ]
  },
  {
   "cell_type": "code",
   "execution_count": 7,
   "id": "6e7b0598",
   "metadata": {},
   "outputs": [
    {
     "name": "stdout",
     "output_type": "stream",
     "text": [
      "- Installer setup (ISU) 1 Press and hold CENTER and buttons for approximately 3 seconds to enter advanced menu.\n",
      "- 3 Press Select to cycle through menu setup options.\n",
      "- 4 Press or to change values or select from available options.\n",
      "- 5 Press Select and confirm your settings or press Back to ignore changes and return to ISU menu screen to continue editing another setup option.\n",
      "\n",
      "Sources: (Doc: Honeywell, p.13)\n",
      "- Installer setup (ISU) 1 Press and hold CENTER and buttons for approximately 3 seconds to enter advanced menu.\n",
      "- 3 Press Select to cycle through menu setup options.\n",
      "- 4 Press or to change values or select from available options.\n",
      "- 5 Press Select and confirm your settings or press Back to ignore changes and return to ISU menu screen to continue editing another setup option.\n",
      "\n",
      "Sources: (Doc: Honeywell, p.13)\n"
     ]
    }
   ],
   "source": [
    "ask(\"Which options can I change in ISU?\")\n",
    "ask(\"How do I exit ISU and save changes?\")"
   ]
  },
  {
   "cell_type": "code",
   "execution_count": 8,
   "id": "7f25c32c",
   "metadata": {},
   "outputs": [
    {
     "name": "stdout",
     "output_type": "stream",
     "text": [
      "- Service-HUB Indien Service HUB India RITTAL India Pvt.\n",
      "\n",
      "Sources: (Doc: Rittal, p.31)\n"
     ]
    }
   ],
   "source": [
    "# Cross-manual\n",
    "ask(\"Compare the electrical installation safety guidance in Honeywell vs Rittal.\")\n"
   ]
  },
  {
   "cell_type": "code",
   "execution_count": 9,
   "id": "d27d83a6",
   "metadata": {},
   "outputs": [
    {
     "name": "stdout",
     "output_type": "stream",
     "text": [
      "- it fully charged, unplugged, and switched off.\n",
      "- Recharge it at least every three months to avoid battery overdischarge.\n",
      "- To transport the product, be sure to unplug the dock, switch off the robot, and empty water tanks.\n",
      "- In addition, drain and rinse the cleaning solution cartridge, leave it air dry completely, and then reinstall it.\n",
      "\n",
      "Sources: (Doc: Roborock Saros, p.35)\n"
     ]
    }
   ],
   "source": [
    "# Out-of-scope\n",
    "ask(\"What will Egypt’s electricity tariffs be in 2026?\")"
   ]
  },
  {
   "cell_type": "code",
   "execution_count": 10,
   "id": "9cec8083",
   "metadata": {},
   "outputs": [
    {
     "name": "stdout",
     "output_type": "stream",
     "text": [
      "⚙️ Building Chroma store (first run)…\n",
      " Saved to ./chroma_store\n"
     ]
    }
   ],
   "source": [
    "from langchain_chroma import Chroma  # <-- NEW\n",
    "\n",
    "PERSIST_DIR = \"./chroma_store\"\n",
    "COLLECTION  = \"manuals\"  # keep it explicit\n",
    "\n",
    "def build_or_load_chroma(chunks, emb, persist_dir=PERSIST_DIR, collection=COLLECTION):\n",
    "    from pathlib import Path\n",
    "    if Path(persist_dir).exists():\n",
    "        try:\n",
    "            vs = Chroma(\n",
    "                persist_directory=persist_dir,\n",
    "                embedding_function=emb,\n",
    "                collection_name=collection,\n",
    "            )\n",
    "            # If collection has vectors, reuse it\n",
    "            cnt = vs._collection.count() if hasattr(vs, \"_collection\") else 1\n",
    "            if cnt and cnt > 0:\n",
    "                print(\" Reloaded existing Chroma store\")\n",
    "                return vs\n",
    "        except Exception as e:\n",
    "            print(\"Rebuilding Chroma store due to:\", e)\n",
    "    print(\"⚙️ Building Chroma store (first run)…\")\n",
    "    vs = Chroma.from_documents(\n",
    "        chunks, emb,\n",
    "        persist_directory=persist_dir,\n",
    "        collection_name=collection,\n",
    "    )\n",
    "    print(\" Saved to\", persist_dir)\n",
    "    return vs\n",
    "\n",
    "vs = build_or_load_chroma(chunks, emb)\n",
    "retriever = vs.as_retriever(search_kwargs={\"k\": 5})\n"
   ]
  },
  {
   "cell_type": "code",
   "execution_count": 11,
   "id": "c87a0f47",
   "metadata": {},
   "outputs": [
    {
     "name": "stdout",
     "output_type": "stream",
     "text": [
      "Vectors in store: 168\n",
      "Roborock Saros 13 \n",
      "Roborock Saros 18 \n",
      "Roborock Saros 13 \n"
     ]
    }
   ],
   "source": [
    "# how many vectors are in the store?\n",
    "n = vs._collection.count() if hasattr(vs, \"_collection\") else \"?\"\n",
    "print(\"Vectors in store:\", n)\n",
    "\n",
    "# try a quick retrieval\n",
    "docs = retriever.get_relevant_documents(\"reset Wi-Fi to factory defaults\")\n",
    "for d in docs[:3]:\n",
    "    print(d.metadata.get(\"doc_name\"), d.metadata.get(\"page_number\"), d.metadata.get(\"section_heading\"))\n"
   ]
  },
  {
   "cell_type": "code",
   "execution_count": 12,
   "id": "b7b793cf",
   "metadata": {},
   "outputs": [],
   "source": [
    "def retrieve_filtered(query: str, k=5, manual: str | None = None, section: str | None = None):\n",
    "    # metadata filter on manual via Chroma; section is a flexible substring match\n",
    "    where = {\"doc_name\": manual} if manual else None\n",
    "    pool_k = max(k * 5, 40) if (manual or section) else k\n",
    "    docs = vs.similarity_search(query, k=pool_k, filter=where) if where else vs.similarity_search(query, k=pool_k)\n",
    "    if section:\n",
    "        docs = [d for d in docs if section.lower() in (d.metadata.get(\"section_heading\") or \"\").lower()]\n",
    "    return docs[:k]\n",
    "\n",
    "def ask_filtered(question: str, manual: str | None = None, section: str | None = None, k: int = 5):\n",
    "    ctx_docs = retrieve_filtered(question, k=k, manual=manual, section=section)\n",
    "    context = make_context(ctx_docs)\n",
    "    answer = llm_fallback_answer(question, ctx_docs) if LLM is None else (prompt | LLM | StrOutputParser()).invoke(\n",
    "        {\"history\": \"\\n\".join(chat_history[-6:]), \"question\": question, \"context\": context}\n",
    "    )\n",
    "    print(answer)\n",
    "    chat_history.append(f\"User: {question}\")\n",
    "    chat_history.append(f\"Assistant: {answer}\")\n"
   ]
  },
  {
   "cell_type": "code",
   "execution_count": 13,
   "id": "9eee9562",
   "metadata": {},
   "outputs": [
    {
     "name": "stdout",
     "output_type": "stream",
     "text": [
      "- Installer setup (ISU) 1 Press and hold CENTER and buttons for approximately 3 seconds to enter advanced menu.\n",
      "- 3 Press Select to cycle through menu setup options.\n",
      "- 4 Press or to change values or select from available options.\n",
      "- 5 Press Select and confirm your settings or press Back to ignore changes and return to ISU menu screen to continue editing another setup option.\n",
      "\n",
      "Sources: (Doc: Honeywell, p.13)\n",
      "- for measuring and control technology in indoor spaces.\n",
      "- Should you have any special requirements, and for outdoor installation, the suitability of the product must be verified by Rittal.\n",
      "- Because a few residual risks cannot be precluded, the following notes must be observed.\n",
      "- Danger to life and health in case of non-observance of the safety instructions.\n",
      "\n",
      "Sources: (Doc: Rittal, p.29)\n",
      "- If you want to reconnect, reset the WiFi before proceeding.\n",
      "- Instructions for Use Filling the Clean Water Tank Lift the clean water tank, open its lid, and then fill it with tap water.\n",
      "- After filling, close the lid, lock the latch, and then put the clean water tank back to the dock.\n",
      "\n",
      "Sources: (Doc: Roborock Saros, p.13)\n",
      "- Shake the drawer in order to let the water flow in all the compartments.\n",
      "- Empty the drawer from excess water and reinsert it completely.\n",
      "- DO NOT use acid products (for example vinegar) or aggressive detergents to clean the drawer, in order to avoid damaging the seals and/or internal parts of the appliance.\n",
      "- We recommend checking and cleaning the filter 5 or 6 times a year.\n",
      "\n",
      "Sources: (Doc: Smart Touch Washing Machine, p.14)\n",
      "- Installer setup (ISU) 1 Press and hold CENTER and buttons for approximately 3 seconds to enter advanced menu.\n",
      "- 3 Press Select to cycle through menu setup options.\n",
      "- 4 Press or to change values or select from available options.\n",
      "- 5 Press Select and confirm your settings or press Back to ignore changes and return to ISU menu screen to continue editing another setup option.\n",
      "\n",
      "Sources: (Doc: Honeywell, p.13)\n",
      "- Installer setup (ISU) 1 Press and hold CENTER and buttons for approximately 3 seconds to enter advanced menu.\n",
      "- 3 Press Select to cycle through menu setup options.\n",
      "- 4 Press or to change values or select from available options.\n",
      "- 5 Press Select and confirm your settings or press Back to ignore changes and return to ISU menu screen to continue editing another setup option.\n",
      "\n",
      "Sources: (Doc: Honeywell, p.13)\n",
      "- Service-HUB Indien Service HUB India RITTAL India Pvt.\n",
      "\n",
      "Sources: (Doc: Rittal, p.31)\n",
      "- it fully charged, unplugged, and switched off.\n",
      "- Recharge it at least every three months to avoid battery overdischarge.\n",
      "- To transport the product, be sure to unplug the dock, switch off the robot, and empty water tanks.\n",
      "- In addition, drain and rinse the cleaning solution cartridge, leave it air dry completely, and then reinstall it.\n",
      "\n",
      "Sources: (Doc: Roborock Saros, p.35)\n"
     ]
    }
   ],
   "source": [
    "# 1) Direct factual (one per manual)\n",
    "ask_filtered(\"How do I enter and navigate the Installer Setup (ISU) menu?\", manual=\"Honeywell\", k=6)\n",
    "ask_filtered(\"List the safety precautions before installation.\", manual=\"Rittal\", k=8)\n",
    "ask_filtered(\"How do I reset Wi-Fi to factory defaults?\", manual=\"Roborock Saros\", k=6)\n",
    "ask_filtered(\"How often should I clean the pump/pump filter?\", manual=\"Smart Touch Washing Machine\", k=6)\n",
    "\n",
    "# 2) Follow-ups (memory) – stay on Honeywell by passing manual once more\n",
    "ask_filtered(\"Which options can I change in ISU?\", manual=\"Honeywell\", k=8)\n",
    "ask_filtered(\"How do I exit ISU and save changes?\", manual=\"Honeywell\", k=8)\n",
    "\n",
    "# 3) Cross-manual\n",
    "ask_filtered(\"Compare the electrical installation safety guidance in Honeywell vs Rittal.\", k=8)\n",
    "\n",
    "# 4) Out-of-scope\n",
    "ask_filtered(\"What will Egypt’s electricity tariffs be in 2026?\", k=6)\n"
   ]
  },
  {
   "cell_type": "markdown",
   "id": "c535e742",
   "metadata": {},
   "source": [
    "### BONUS: persistence + metadata filtering + summarization\n"
   ]
  },
  {
   "cell_type": "code",
   "execution_count": 14,
   "id": "9c756569",
   "metadata": {},
   "outputs": [
    {
     "name": "stdout",
     "output_type": "stream",
     "text": [
      "Reloaded existing Chroma store (168 vectors)\n"
     ]
    }
   ],
   "source": [
    "\n",
    "from pathlib import Path\n",
    "from langchain_chroma import Chroma\n",
    "from langchain.prompts import ChatPromptTemplate\n",
    "from langchain_core.output_parsers import StrOutputParser\n",
    "\n",
    "# --- 1) Persist / reload Chroma so you don't rebuild every run ---\n",
    "PERSIST_DIR = \"./chroma_store\"\n",
    "COLLECTION  = \"manuals\"\n",
    "\n",
    "# --- OOS guard using relevance scores + light heuristics ---\n",
    "DOMAIN_HINTS = (\n",
    "    \"thermostat\",\"honeywell\",\"t6\",\"vx25\",\"rittal\",\"enclosure\",\"earthing\",\n",
    "    \"washing machine\",\"detergent\",\"filter\",\"pump\",\"lint\",\n",
    "    \"roborock\",\"saros\",\"robot\",\"wifi\",\"reset\"\n",
    ")\n",
    "\n",
    "def get_docs_with_scores(query: str, k: int, manual: str | None = None):\n",
    "    \"\"\"Use Chroma's scores; returns list[(doc, score in 0..1)].\"\"\"\n",
    "    where = {\"doc_name\": manual} if manual else None\n",
    "    pairs = vs.similarity_search_with_relevance_scores(query, k=k, filter=where)  # [(doc, score), ...]\n",
    "    # Some versions may return distance, not similarity; if you see very small numbers (e.g. 0.01),\n",
    "    # just lower thresholds below.\n",
    "    return pairs\n",
    "\n",
    "def looks_oos(query: str, pairs: list[tuple], lo: float = 0.32, mid: float = 0.25) -> bool:\n",
    "    \"\"\"\n",
    "    Decide OOS from scores and simple domain hints.\n",
    "    lo  = minimum acceptable top-score\n",
    "    mid = minimum acceptable median-score\n",
    "    \"\"\"\n",
    "    if not pairs:\n",
    "        return True\n",
    "    scores = [float(s) for (_, s) in pairs]\n",
    "    top, med = max(scores), sorted(scores)[len(scores)//2]\n",
    "    qlow = query.lower()\n",
    "    has_domain_word = any(t in qlow for t in DOMAIN_HINTS)\n",
    "    # If scores are low AND the query lacks any domain hint, call it OOS\n",
    "    if top < lo and med < mid and not has_domain_word:\n",
    "        return True\n",
    "    return False\n",
    "\n",
    "\n",
    "\n",
    "def build_or_load_chroma(chunks, emb, persist_dir=PERSIST_DIR, collection=COLLECTION, rebuild: bool = False):\n",
    "    \"\"\"\n",
    "    If a persisted Chroma DB exists, reload it; otherwise build and save.\n",
    "    Set rebuild=True to force a fresh index.\n",
    "    \"\"\"\n",
    "    if not rebuild and Path(persist_dir).exists():\n",
    "        try:\n",
    "            vs = Chroma(persist_directory=persist_dir, embedding_function=emb, collection_name=collection)\n",
    "            cnt = vs._collection.count() if hasattr(vs, \"_collection\") else 0\n",
    "            if cnt and cnt > 0:\n",
    "                print(f\"Reloaded existing Chroma store ({cnt} vectors)\")\n",
    "                return vs\n",
    "        except Exception as e:\n",
    "            print(\"Reload failed, rebuilding:\", e)\n",
    "    print(\"Building Chroma store…\")\n",
    "    vs = Chroma.from_documents(chunks, emb, persist_directory=persist_dir, collection_name=collection)\n",
    "    print(\"Saved to\", persist_dir)\n",
    "    return vs\n",
    "\n",
    "vs = build_or_load_chroma(chunks, emb)\n",
    "retriever = vs.as_retriever(search_kwargs={\"k\": 5})\n",
    "\n",
    "\n",
    "# --- 2) Metadata-based filtering (manual / section) ---\n",
    "def retrieve_filtered(query: str, k: int = 5, manual: str | None = None, section: str | None = None):\n",
    "    \"\"\"\n",
    "    - manual: exact match on metadata 'doc_name' (server-side filter in Chroma)\n",
    "    - section: substring match on 'section_heading' (client-side for flexibility)\n",
    "    \"\"\"\n",
    "    where = {\"doc_name\": manual} if manual else None\n",
    "    pool_k = max(k * 5, 40) if (manual or section) else k  # retrieve wider pool if we plan to filter\n",
    "    docs = vs.similarity_search(query, k=pool_k, filter=where) if where else vs.similarity_search(query, k=pool_k)\n",
    "    if section:\n",
    "        s = section.lower()\n",
    "        docs = [d for d in docs if s in (d.metadata.get(\"section_heading\") or \"\").lower()]\n",
    "    return docs[:k]\n",
    "\n",
    "def _format_citations(docs, max_refs=4):\n",
    "    seen, cites = set(), []\n",
    "    for d in docs:\n",
    "        key = (d.metadata.get(\"doc_name\"), d.metadata.get(\"page_number\"))\n",
    "        if key not in seen:\n",
    "            seen.add(key); cites.append(f\"(Doc: {key[0]}, p.{key[1]})\")\n",
    "        if len(cites) >= max_refs: break\n",
    "    return \", \".join(cites)\n",
    "\n",
    "def _make_context(docs):\n",
    "    return \"\\n\\n\".join(\n",
    "        f\"(Doc: {d.metadata.get('doc_name')}, p.{d.metadata.get('page_number')}, Sec: {d.metadata.get('section_heading') or ''})\\n{d.page_content}\"\n",
    "        for d in docs\n",
    "    )\n",
    "\n",
    "def ask_filtered(question: str, manual: str | None = None, section: str | None = None, k: int = 5):\n",
    "    \"\"\"\n",
    "    Ask a question while restricting retrieval by manual and/or section metadata.\n",
    "    Uses your global LLM if defined (LLM != None), otherwise a simple extractive fallback.\n",
    "    \"\"\"\n",
    "    docs = retrieve_filtered(question, k=k, manual=manual, section=section)\n",
    "    if not docs:\n",
    "        print(\"I couldn't find matching content in the manuals.\")\n",
    "        return None\n",
    "\n",
    "    context = _make_context(docs)\n",
    "    cites   = _format_citations(docs)\n",
    "\n",
    "    if \"LLM\" in globals() and LLM is not None:\n",
    "        prompt = ChatPromptTemplate.from_template(\n",
    "            \"Answer strictly from the context. If not in context/manuals, say you don't know.\\n\"\n",
    "            \"Include citations like (Doc: X, p.Y).\\n\\n\"\n",
    "            \"Question: {q}\\n\\nContext:\\n{ctx}\"\n",
    "        )\n",
    "        answer = (prompt | LLM | StrOutputParser()).invoke({\"q\": question, \"ctx\": context})\n",
    "    else:\n",
    "        import re\n",
    "        text = \" \".join(docs[0].page_content.split())\n",
    "        sents = re.split(r'(?<=[.!?])\\s+', text)\n",
    "        bullets = [s for s in sents if 40 < len(s) <= 180][:5]\n",
    "        answer = (\"- \" + \"\\n- \".join(bullets)) if bullets else text[:500]\n",
    "        answer += f\"\\n\\nSources: {cites}\"\n",
    "\n",
    "    print(answer)\n",
    "    return answer\n",
    "\n",
    "\n",
    "# --- 3) Summarization (manual/section aware) ---\n",
    "def _compress_to_bullets(text: str, max_lines: int = 8) -> str:\n",
    "    import re\n",
    "    text = \" \".join(text.split())\n",
    "    sents = re.split(r'(?<=[.!?])\\s+', text)\n",
    "    keep = [s for s in sents if 40 < len(s) <= 180][:max_lines]\n",
    "    return \"- \" + \"\\n- \".join(keep) if keep else text[:600]\n",
    "\n",
    "def summarize(manual: str | None = None, section: str | None = None, query_hint: str | None = None, k: int = 12):\n",
    "    \"\"\"\n",
    "    Summarize the most relevant chunks for a given manual/section (or both).\n",
    "    - manual: filter to a single manual\n",
    "    - section: restrict by section keyword\n",
    "    - query_hint: optional term to steer retrieval (e.g., 'Maintenance', 'Safety')\n",
    "    \"\"\"\n",
    "    q = query_hint or (section or \"overview\")\n",
    "    docs = retrieve_filtered(q, k=k, manual=manual, section=section)\n",
    "    if not docs:\n",
    "        print(\"No matching context to summarize.\")\n",
    "        return None\n",
    "\n",
    "    context_text = \"\\n\\n\".join(d.page_content for d in docs)\n",
    "\n",
    "    if \"LLM\" in globals() and LLM is not None:\n",
    "        sum_prompt = ChatPromptTemplate.from_template(\n",
    "            \"Summarize the key procedures and cautions in 5–8 concise bullets based strictly on the context.\\n\\n{ctx}\"\n",
    "        )\n",
    "        out = (sum_prompt | LLM | StrOutputParser()).invoke({\"ctx\": context_text})\n",
    "    else:\n",
    "        out = _compress_to_bullets(context_text, max_lines=8)\n",
    "\n",
    "    cites = _format_citations(docs)\n",
    "    print(out + f\"\\n\\nSources: {cites}\")\n",
    "    return out\n"
   ]
  },
  {
   "cell_type": "code",
   "execution_count": 15,
   "id": "7af48b9a",
   "metadata": {},
   "outputs": [
    {
     "name": "stdout",
     "output_type": "stream",
     "text": [
      "- for measuring and control technology in indoor spaces.\n",
      "- Should you have any special requirements, and for outdoor installation, the suitability of the product must be verified by Rittal.\n",
      "- Because a few residual risks cannot be precluded, the following notes must be observed.\n",
      "- Danger to life and health in case of non-observance of the safety instructions.\n",
      "- Risk of crushing during installation of mounting plate\n",
      "\n",
      "Sources: (Doc: Rittal, p.29), (Doc: Rittal, p.2), (Doc: Rittal, p.5), (Doc: Rittal, p.25)\n",
      "I couldn't find matching content in the manuals.\n",
      "- which are hard to eliminate from laundry.\n",
      "- In this case, do not re-rinse to eliminate these effects: it will not help at all.\n",
      "- We suggest conducting a maintenance wash using a proprietary cleaner.\n",
      "- If the problem persists or if you suspect a malfunction, immediately contact an Authorised Customer Service Centre.\n",
      "- CLEANING AND MAINTENANCE Looking after your appliance correctly can extend its lifespan.\n",
      "- Cleaning the appliance's exterior Disconnect the machine from the power supply.\n",
      "- Clean the appliance's external cabinet, using a damp cloth and AVOIDING ABRASIVES, ALCOHOL AND/OR DILUENTS .\n",
      "- Drawer cleaning It is advisable to regularly clean the detergent drawer to avoid the accumulation of detergent and additive residues.\n",
      "\n",
      "Sources: (Doc: Smart Touch Washing Machine, p.13)\n",
      "- If the appliance is used in a manner inconsistent with this it may reduce the life of the appliance and may void the manufacturer's warranty.\n",
      "- manufacturer to the fullest extent permitted by law.\n",
      "- Children shall not play with the appliance.\n",
      "- Cleaning and user maintenance shall not be made by children without supervision.\n",
      "- Children should be supervised to ensure that they do not play with the appliance.\n",
      "- Children of less than 3 years should be kept away unless continuously supervised.\n",
      "- If the supply cord is damaged, it must be replaced by a special cord or assembly available from the manufacturer or its service agent.\n",
      "- WEEE subjected to specific treatments, in order to remove and dispose properly all pollutants, and recover and recycle all materials.\n",
      "\n",
      "Sources: (Doc: Smart Touch Washing Machine, p.4), (Doc: Smart Touch Washing Machine, p.1)\n"
     ]
    },
    {
     "data": {
      "text/plain": [
       "\"- If the appliance is used in a manner inconsistent with this it may reduce the life of the appliance and may void the manufacturer's warranty.\\n- manufacturer to the fullest extent permitted by law.\\n- Children shall not play with the appliance.\\n- Cleaning and user maintenance shall not be made by children without supervision.\\n- Children should be supervised to ensure that they do not play with the appliance.\\n- Children of less than 3 years should be kept away unless continuously supervised.\\n- If the supply cord is damaged, it must be replaced by a special cord or assembly available from the manufacturer or its service agent.\\n- WEEE subjected to specific treatments, in order to remove and dispose properly all pollutants, and recover and recycle all materials.\""
      ]
     },
     "execution_count": 15,
     "metadata": {},
     "output_type": "execute_result"
    }
   ],
   "source": [
    "# Restrict retrieval to one manual\n",
    "ask_filtered(\"List the safety precautions before installation.\", manual=\"Rittal\", k=8)\n",
    "\n",
    "# Restrict to a section within a manual\n",
    "ask_filtered(\"How do I reset Wi-Fi to factory defaults?\", manual=\"Roborock Saros\", section=\"Reset WiFi\", k=8)\n",
    "\n",
    "# Summarize a section\n",
    "summarize(manual=\"Smart Touch Washing Machine\", section=\"Maintenance\", k=12)\n",
    "\n",
    "# Summarize safety notes across manuals\n",
    "summarize(section=\"Safety\", query_hint=\"safety warnings\", k=12)\n"
   ]
  },
  {
   "cell_type": "code",
   "execution_count": null,
   "id": "a0338f3f",
   "metadata": {},
   "outputs": [],
   "source": []
  }
 ],
 "metadata": {
  "kernelspec": {
   "display_name": "condaenvironment",
   "language": "python",
   "name": "python3"
  },
  "language_info": {
   "codemirror_mode": {
    "name": "ipython",
    "version": 3
   },
   "file_extension": ".py",
   "mimetype": "text/x-python",
   "name": "python",
   "nbconvert_exporter": "python",
   "pygments_lexer": "ipython3",
   "version": "3.10.18"
  }
 },
 "nbformat": 4,
 "nbformat_minor": 5
}
